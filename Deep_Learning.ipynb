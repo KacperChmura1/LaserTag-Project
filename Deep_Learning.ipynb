{
 "cells": [
  {
   "cell_type": "code",
   "execution_count": 41,
   "id": "e49d8da5",
   "metadata": {},
   "outputs": [],
   "source": [
    "import pandas as pd\n",
    "import seaborn as sns\n",
    "import matplotlib.pyplot as plt\n",
    "import numpy as np"
   ]
  },
  {
   "cell_type": "code",
   "execution_count": 42,
   "id": "5631c509",
   "metadata": {},
   "outputs": [],
   "source": [
    "%load_ext pycodestyle_magic"
   ]
  },
  {
   "cell_type": "code",
   "execution_count": 43,
   "id": "4f093d2d",
   "metadata": {},
   "outputs": [],
   "source": [
    "%pycodestyle_on"
   ]
  },
  {
   "cell_type": "code",
   "execution_count": 44,
   "id": "5f2a678e",
   "metadata": {},
   "outputs": [],
   "source": [
    "from sklearn.pipeline import Pipeline\n",
    "from sklearn.neural_network import MLPRegressor\n",
    "from sklearn.model_selection import GridSearchCV"
   ]
  },
  {
   "cell_type": "code",
   "execution_count": 45,
   "id": "694a6ac6",
   "metadata": {},
   "outputs": [],
   "source": [
    "from sklearn.preprocessing import MinMaxScaler\n",
    "from sklearn.preprocessing import StandardScaler\n",
    "from sklearn import metrics\n",
    "import tensorflow as tf"
   ]
  },
  {
   "cell_type": "code",
   "execution_count": 93,
   "id": "2b0479cf",
   "metadata": {},
   "outputs": [],
   "source": [
    "df = pd.read_csv(\"Stats.csv\", index_col=0)"
   ]
  },
  {
   "cell_type": "code",
   "execution_count": 94,
   "id": "79e3a712",
   "metadata": {},
   "outputs": [
    {
     "data": {
      "text/html": [
       "<div>\n",
       "<style scoped>\n",
       "    .dataframe tbody tr th:only-of-type {\n",
       "        vertical-align: middle;\n",
       "    }\n",
       "\n",
       "    .dataframe tbody tr th {\n",
       "        vertical-align: top;\n",
       "    }\n",
       "\n",
       "    .dataframe thead th {\n",
       "        text-align: right;\n",
       "    }\n",
       "</style>\n",
       "<table border=\"1\" class=\"dataframe\">\n",
       "  <thead>\n",
       "    <tr style=\"text-align: right;\">\n",
       "      <th></th>\n",
       "      <th>Rating</th>\n",
       "      <th>Accuracy</th>\n",
       "      <th>Shot fired</th>\n",
       "      <th>Hits</th>\n",
       "      <th>Deaths</th>\n",
       "      <th>DMG_Get</th>\n",
       "    </tr>\n",
       "  </thead>\n",
       "  <tbody>\n",
       "    <tr>\n",
       "      <th>0</th>\n",
       "      <td>70.8</td>\n",
       "      <td>20.10%</td>\n",
       "      <td>3509</td>\n",
       "      <td>704</td>\n",
       "      <td>40</td>\n",
       "      <td>464</td>\n",
       "    </tr>\n",
       "    <tr>\n",
       "      <th>1</th>\n",
       "      <td>55.8</td>\n",
       "      <td>15.80%</td>\n",
       "      <td>4771</td>\n",
       "      <td>753</td>\n",
       "      <td>54</td>\n",
       "      <td>591</td>\n",
       "    </tr>\n",
       "    <tr>\n",
       "      <th>2</th>\n",
       "      <td>47.6</td>\n",
       "      <td>16.70%</td>\n",
       "      <td>3526</td>\n",
       "      <td>589</td>\n",
       "      <td>59</td>\n",
       "      <td>549</td>\n",
       "    </tr>\n",
       "    <tr>\n",
       "      <th>3</th>\n",
       "      <td>47.5</td>\n",
       "      <td>15.20%</td>\n",
       "      <td>3184</td>\n",
       "      <td>484</td>\n",
       "      <td>42</td>\n",
       "      <td>442</td>\n",
       "    </tr>\n",
       "    <tr>\n",
       "      <th>4</th>\n",
       "      <td>24.7</td>\n",
       "      <td>10.30%</td>\n",
       "      <td>3481</td>\n",
       "      <td>359</td>\n",
       "      <td>66</td>\n",
       "      <td>583</td>\n",
       "    </tr>\n",
       "    <tr>\n",
       "      <th>...</th>\n",
       "      <td>...</td>\n",
       "      <td>...</td>\n",
       "      <td>...</td>\n",
       "      <td>...</td>\n",
       "      <td>...</td>\n",
       "      <td>...</td>\n",
       "    </tr>\n",
       "    <tr>\n",
       "      <th>1845</th>\n",
       "      <td>26.4</td>\n",
       "      <td>3.20%</td>\n",
       "      <td>1393</td>\n",
       "      <td>44</td>\n",
       "      <td>0</td>\n",
       "      <td>58</td>\n",
       "    </tr>\n",
       "    <tr>\n",
       "      <th>1846</th>\n",
       "      <td>21.1</td>\n",
       "      <td>6.40%</td>\n",
       "      <td>1643</td>\n",
       "      <td>105</td>\n",
       "      <td>11</td>\n",
       "      <td>186</td>\n",
       "    </tr>\n",
       "    <tr>\n",
       "      <th>1847</th>\n",
       "      <td>20.9</td>\n",
       "      <td>3.60%</td>\n",
       "      <td>2208</td>\n",
       "      <td>80</td>\n",
       "      <td>5</td>\n",
       "      <td>136</td>\n",
       "    </tr>\n",
       "    <tr>\n",
       "      <th>1848</th>\n",
       "      <td>19.9</td>\n",
       "      <td>1.90%</td>\n",
       "      <td>1630</td>\n",
       "      <td>31</td>\n",
       "      <td>2</td>\n",
       "      <td>53</td>\n",
       "    </tr>\n",
       "    <tr>\n",
       "      <th>1849</th>\n",
       "      <td>11.5</td>\n",
       "      <td>1.80%</td>\n",
       "      <td>3462</td>\n",
       "      <td>64</td>\n",
       "      <td>15</td>\n",
       "      <td>192</td>\n",
       "    </tr>\n",
       "  </tbody>\n",
       "</table>\n",
       "<p>1850 rows × 6 columns</p>\n",
       "</div>"
      ],
      "text/plain": [
       "      Rating Accuracy  Shot fired  Hits  Deaths DMG_Get\n",
       "0       70.8   20.10%        3509   704      40     464\n",
       "1       55.8   15.80%        4771   753      54     591\n",
       "2       47.6   16.70%        3526   589      59     549\n",
       "3       47.5   15.20%        3184   484      42     442\n",
       "4       24.7   10.30%        3481   359      66     583\n",
       "...      ...      ...         ...   ...     ...     ...\n",
       "1845    26.4    3.20%        1393    44       0      58\n",
       "1846    21.1    6.40%        1643   105      11     186\n",
       "1847    20.9    3.60%        2208    80       5     136\n",
       "1848    19.9    1.90%        1630    31       2      53\n",
       "1849    11.5    1.80%        3462    64      15     192\n",
       "\n",
       "[1850 rows x 6 columns]"
      ]
     },
     "execution_count": 94,
     "metadata": {},
     "output_type": "execute_result"
    }
   ],
   "source": [
    "df"
   ]
  },
  {
   "cell_type": "code",
   "execution_count": 95,
   "id": "5903465b",
   "metadata": {},
   "outputs": [
    {
     "data": {
      "text/plain": [
       "1850"
      ]
     },
     "execution_count": 95,
     "metadata": {},
     "output_type": "execute_result"
    }
   ],
   "source": [
    "len(df)"
   ]
  },
  {
   "cell_type": "code",
   "execution_count": 96,
   "id": "1f3d5c86",
   "metadata": {},
   "outputs": [],
   "source": [
    "df = df[1:]"
   ]
  },
  {
   "cell_type": "code",
   "execution_count": 97,
   "id": "69b5d8b6",
   "metadata": {},
   "outputs": [],
   "source": [
    "def proc(acc):\n",
    "    acc = acc[:-1]\n",
    "    return acc"
   ]
  },
  {
   "cell_type": "code",
   "execution_count": null,
   "id": "8f4931b9",
   "metadata": {},
   "outputs": [],
   "source": []
  },
  {
   "cell_type": "code",
   "execution_count": 98,
   "id": "9aab1209",
   "metadata": {
    "scrolled": false
   },
   "outputs": [
    {
     "name": "stderr",
     "output_type": "stream",
     "text": [
      "C:\\Users\\kacpe\\AppData\\Local\\Temp/ipykernel_26152/1612334256.py:1: SettingWithCopyWarning: \n",
      "A value is trying to be set on a copy of a slice from a DataFrame.\n",
      "Try using .loc[row_indexer,col_indexer] = value instead\n",
      "\n",
      "See the caveats in the documentation: https://pandas.pydata.org/pandas-docs/stable/user_guide/indexing.html#returning-a-view-versus-a-copy\n",
      "  df[\"Accuracy\"] = df[\"Accuracy\"].apply(proc).apply(float)\n"
     ]
    }
   ],
   "source": [
    "df[\"Accuracy\"] = df[\"Accuracy\"].apply(proc).apply(float)"
   ]
  },
  {
   "cell_type": "code",
   "execution_count": 99,
   "id": "2814fa75",
   "metadata": {},
   "outputs": [
    {
     "data": {
      "text/html": [
       "<div>\n",
       "<style scoped>\n",
       "    .dataframe tbody tr th:only-of-type {\n",
       "        vertical-align: middle;\n",
       "    }\n",
       "\n",
       "    .dataframe tbody tr th {\n",
       "        vertical-align: top;\n",
       "    }\n",
       "\n",
       "    .dataframe thead th {\n",
       "        text-align: right;\n",
       "    }\n",
       "</style>\n",
       "<table border=\"1\" class=\"dataframe\">\n",
       "  <thead>\n",
       "    <tr style=\"text-align: right;\">\n",
       "      <th></th>\n",
       "      <th>Rating</th>\n",
       "      <th>Accuracy</th>\n",
       "      <th>Shot fired</th>\n",
       "      <th>Hits</th>\n",
       "      <th>Deaths</th>\n",
       "      <th>DMG_Get</th>\n",
       "    </tr>\n",
       "  </thead>\n",
       "  <tbody>\n",
       "    <tr>\n",
       "      <th>1714</th>\n",
       "      <td>49.5</td>\n",
       "      <td>18.4</td>\n",
       "      <td>2143</td>\n",
       "      <td>394</td>\n",
       "      <td>75</td>\n",
       "      <td>Rating</td>\n",
       "    </tr>\n",
       "  </tbody>\n",
       "</table>\n",
       "</div>"
      ],
      "text/plain": [
       "      Rating  Accuracy  Shot fired  Hits  Deaths DMG_Get\n",
       "1714    49.5      18.4        2143   394      75  Rating"
      ]
     },
     "execution_count": 99,
     "metadata": {},
     "output_type": "execute_result"
    }
   ],
   "source": [
    "df[df[\"DMG_Get\"] == 'Rating']"
   ]
  },
  {
   "cell_type": "code",
   "execution_count": 100,
   "id": "b2a906a5",
   "metadata": {},
   "outputs": [],
   "source": [
    "df = df.drop(1714)"
   ]
  },
  {
   "cell_type": "code",
   "execution_count": 101,
   "id": "9e516c11",
   "metadata": {},
   "outputs": [],
   "source": [
    "df[\"DMG_Get\"] = df[\"DMG_Get\"].apply(proc).apply(float)"
   ]
  },
  {
   "cell_type": "code",
   "execution_count": 102,
   "id": "50233ee8",
   "metadata": {},
   "outputs": [],
   "source": [
    "# sns.pairplot(df)"
   ]
  },
  {
   "cell_type": "code",
   "execution_count": 103,
   "id": "8778686d",
   "metadata": {},
   "outputs": [],
   "source": [
    "from sklearn.model_selection import train_test_split"
   ]
  },
  {
   "cell_type": "code",
   "execution_count": 104,
   "id": "9b57bf29",
   "metadata": {},
   "outputs": [],
   "source": [
    "X = df.drop(\"Rating\", axis=1)\n",
    "y = df[\"Rating\"]"
   ]
  },
  {
   "cell_type": "code",
   "execution_count": 105,
   "id": "6200f180",
   "metadata": {},
   "outputs": [
    {
     "name": "stderr",
     "output_type": "stream",
     "text": [
      "1:80: E501 line too long (90 > 79 characters)\n"
     ]
    }
   ],
   "source": [
    "X_train, X_test, y_train, y_test = train_test_split(X, y, test_size=0.2, random_state=110)"
   ]
  },
  {
   "cell_type": "code",
   "execution_count": 106,
   "id": "4d46ea7b",
   "metadata": {},
   "outputs": [],
   "source": [
    "scaler = StandardScaler()"
   ]
  },
  {
   "cell_type": "code",
   "execution_count": 107,
   "id": "65e1be17",
   "metadata": {},
   "outputs": [],
   "source": [
    "X_train = scaler.fit_transform(X_train)"
   ]
  },
  {
   "cell_type": "code",
   "execution_count": 108,
   "id": "8028b640",
   "metadata": {},
   "outputs": [],
   "source": [
    "X_test = scaler.transform(X_test)"
   ]
  },
  {
   "cell_type": "code",
   "execution_count": 109,
   "id": "55c821b3",
   "metadata": {},
   "outputs": [
    {
     "data": {
      "text/plain": [
       "(1478, 5)"
      ]
     },
     "execution_count": 109,
     "metadata": {},
     "output_type": "execute_result"
    }
   ],
   "source": [
    "X_train.shape"
   ]
  },
  {
   "cell_type": "code",
   "execution_count": 110,
   "id": "62039c20",
   "metadata": {
    "scrolled": true
   },
   "outputs": [
    {
     "data": {
      "text/plain": [
       "(370, 5)"
      ]
     },
     "execution_count": 110,
     "metadata": {},
     "output_type": "execute_result"
    }
   ],
   "source": [
    "X_test.shape"
   ]
  },
  {
   "cell_type": "code",
   "execution_count": 111,
   "id": "7da5accc",
   "metadata": {},
   "outputs": [],
   "source": [
    "# Deep Learining"
   ]
  },
  {
   "cell_type": "code",
   "execution_count": 112,
   "id": "20c6f2da",
   "metadata": {},
   "outputs": [],
   "source": [
    "from tensorflow.keras.models import Sequential\n",
    "from tensorflow.keras.layers import Dense, Activation\n",
    "from tensorflow.keras.optimizers import Adam"
   ]
  },
  {
   "cell_type": "code",
   "execution_count": 113,
   "id": "221832b0",
   "metadata": {},
   "outputs": [],
   "source": [
    "model = Sequential()\n",
    "\n",
    "model.add(Dense(19, activation='relu'))\n",
    "model.add(Dense(19, activation='relu'))\n",
    "model.add(Dense(19, activation='relu'))\n",
    "model.add(Dense(19, activation='relu'))\n",
    "model.add(Dense(19, activation='relu'))\n",
    "model.add(Dense(19, activation='relu'))\n",
    "model.add(Dense(19, activation='relu'))\n",
    "model.add(Dense(19, activation='relu'))\n",
    "model.add(Dense(19, activation='relu'))\n",
    "model.add(Dense(1))\n",
    "\n",
    "model.compile(optimizer='adam', loss='mae')"
   ]
  },
  {
   "cell_type": "code",
   "execution_count": 114,
   "id": "bc2b7855",
   "metadata": {},
   "outputs": [
    {
     "data": {
      "text/plain": [
       "<keras.callbacks.History at 0x2da1cbb89d0>"
      ]
     },
     "execution_count": 114,
     "metadata": {},
     "output_type": "execute_result"
    }
   ],
   "source": [
    "model.fit(x=X_train, y=y_train.values,\n",
    "          validation_data=(X_test, y_test.values),\n",
    "          batch_size=128, epochs=400)"
   ]
  },
  {
   "cell_type": "code",
   "execution_count": 115,
   "id": "86c4a896",
   "metadata": {},
   "outputs": [],
   "source": [
    "losses = pd.DataFrame(model.history.history)"
   ]
  },
  {
   "cell_type": "code",
   "execution_count": 116,
   "id": "d4e1c501",
   "metadata": {},
   "outputs": [
    {
     "data": {
      "text/plain": [
       "<AxesSubplot:>"
      ]
     },
     "execution_count": 116,
     "metadata": {},
     "output_type": "execute_result"
    },
    {
     "data": {
      "image/png": "[encoded data removed]",
      "text/plain": [
       "<Figure size 432x288 with 1 Axes>"
      ]
     },
     "metadata": {
      "needs_background": "light"
     },
     "output_type": "display_data"
    }
   ],
   "source": [
    "losses.plot()"
   ]
  },
  {
   "cell_type": "code",
   "execution_count": 117,
   "id": "eb25a9c8",
   "metadata": {},
   "outputs": [
    {
     "name": "stderr",
     "output_type": "stream",
     "text": [
      "1:47: E231 missing whitespace after ','\n",
      "1:67: E231 missing whitespace after ','\n",
      "1:80: E501 line too long (91 > 79 characters)\n"
     ]
    }
   ],
   "source": [
    "from sklearn.metrics import mean_squared_error, mean_absolute_error, explained_variance_score"
   ]
  },
  {
   "cell_type": "code",
   "execution_count": 120,
   "id": "6cc93e28",
   "metadata": {
    "scrolled": false
   },
   "outputs": [],
   "source": [
    "predictions = model.predict(X_test)"
   ]
  },
  {
   "cell_type": "code",
   "execution_count": 121,
   "id": "b242f1f7",
   "metadata": {
    "scrolled": true
   },
   "outputs": [],
   "source": [
    "print('MAE:', metrics.mean_absolute_error(y_test, predictions))\n",
    "print('MSE:', metrics.mean_squared_error(y_test, predictions))\n",
    "print('RMSE:', np.sqrt(metrics.mean_squared_error(y_test, predictions)))"
   ]
  },
  {
   "cell_type": "code",
   "execution_count": 125,
   "id": "ddb9a263",
   "metadata": {},
   "outputs": [],
   "source": [
    "# Much better\n",
    "# Error is 2 times smaller and Neuron Model copes better with outliers"
   ]
  },
  {
   "cell_type": "code",
   "execution_count": 127,
   "id": "60d79bfe",
   "metadata": {
    "scrolled": true
   },
   "outputs": [
    {
     "data": {
      "text/plain": [
       "[<matplotlib.lines.Line2D at 0x2da1c72a610>]"
      ]
     },
     "execution_count": 127,
     "metadata": {},
     "output_type": "execute_result"
    },
    {
     "data": {
      "image/png": "[encoded data removed]",
      "text/plain": [
       "<Figure size 432x288 with 1 Axes>"
      ]
     },
     "metadata": {
      "needs_background": "light"
     },
     "output_type": "display_data"
    }
   ],
   "source": [
    "# Our predictions\n",
    "plt.scatter(y_test, predictions)\n",
    "\n",
    "# Real Value\n",
    "plt.plot(y_test, y_test, 'r')"
   ]
  },
  {
   "cell_type": "code",
   "execution_count": 129,
   "id": "d51b152e",
   "metadata": {},
   "outputs": [],
   "source": [
    "# Project Output"
   ]
  },
  {
   "cell_type": "code",
   "execution_count": 132,
   "id": "99bcbd5a",
   "metadata": {},
   "outputs": [],
   "source": [
    "y_test.values.reshape(len(X_test))\n",
    "df1 = pd.DataFrame(y_test.values.reshape(len(X_test), 1))\n",
    "df2 = pd.DataFrame(predictions)\n",
    "df3 = pd.DataFrame(X_test)\n",
    "df12 = pd.concat([df1, df2], axis=1)"
   ]
  },
  {
   "cell_type": "code",
   "execution_count": 133,
   "id": "21847347",
   "metadata": {},
   "outputs": [
    {
     "data": {
      "text/html": [
       "<div>\n",
       "<style scoped>\n",
       "    .dataframe tbody tr th:only-of-type {\n",
       "        vertical-align: middle;\n",
       "    }\n",
       "\n",
       "    .dataframe tbody tr th {\n",
       "        vertical-align: top;\n",
       "    }\n",
       "\n",
       "    .dataframe thead th {\n",
       "        text-align: right;\n",
       "    }\n",
       "</style>\n",
       "<table border=\"1\" class=\"dataframe\">\n",
       "  <thead>\n",
       "    <tr style=\"text-align: right;\">\n",
       "      <th></th>\n",
       "      <th>0</th>\n",
       "      <th>1</th>\n",
       "      <th>2</th>\n",
       "      <th>3</th>\n",
       "      <th>4</th>\n",
       "    </tr>\n",
       "  </thead>\n",
       "  <tbody>\n",
       "    <tr>\n",
       "      <th>0</th>\n",
       "      <td>-1.456428</td>\n",
       "      <td>-0.700610</td>\n",
       "      <td>-1.109806</td>\n",
       "      <td>-1.187049</td>\n",
       "      <td>-1.094865</td>\n",
       "    </tr>\n",
       "    <tr>\n",
       "      <th>1</th>\n",
       "      <td>-0.032130</td>\n",
       "      <td>0.049880</td>\n",
       "      <td>0.030202</td>\n",
       "      <td>-0.777043</td>\n",
       "      <td>-0.502157</td>\n",
       "    </tr>\n",
       "    <tr>\n",
       "      <th>2</th>\n",
       "      <td>0.615279</td>\n",
       "      <td>0.108071</td>\n",
       "      <td>0.506408</td>\n",
       "      <td>-1.323717</td>\n",
       "      <td>-1.035594</td>\n",
       "    </tr>\n",
       "    <tr>\n",
       "      <th>3</th>\n",
       "      <td>-0.792834</td>\n",
       "      <td>1.071642</td>\n",
       "      <td>0.049442</td>\n",
       "      <td>-0.367038</td>\n",
       "      <td>-0.265074</td>\n",
       "    </tr>\n",
       "    <tr>\n",
       "      <th>4</th>\n",
       "      <td>-0.695723</td>\n",
       "      <td>-0.994987</td>\n",
       "      <td>-0.970312</td>\n",
       "      <td>-0.002589</td>\n",
       "      <td>-0.442886</td>\n",
       "    </tr>\n",
       "    <tr>\n",
       "      <th>...</th>\n",
       "      <td>...</td>\n",
       "      <td>...</td>\n",
       "      <td>...</td>\n",
       "      <td>...</td>\n",
       "      <td>...</td>\n",
       "    </tr>\n",
       "    <tr>\n",
       "      <th>365</th>\n",
       "      <td>2.136689</td>\n",
       "      <td>-0.306967</td>\n",
       "      <td>0.896031</td>\n",
       "      <td>0.999646</td>\n",
       "      <td>0.386904</td>\n",
       "    </tr>\n",
       "    <tr>\n",
       "      <th>366</th>\n",
       "      <td>1.084650</td>\n",
       "      <td>-0.492664</td>\n",
       "      <td>0.126405</td>\n",
       "      <td>-1.141492</td>\n",
       "      <td>-0.798511</td>\n",
       "    </tr>\n",
       "    <tr>\n",
       "      <th>367</th>\n",
       "      <td>0.048797</td>\n",
       "      <td>0.573597</td>\n",
       "      <td>0.501598</td>\n",
       "      <td>0.179635</td>\n",
       "      <td>0.209092</td>\n",
       "    </tr>\n",
       "    <tr>\n",
       "      <th>368</th>\n",
       "      <td>0.793316</td>\n",
       "      <td>-0.984718</td>\n",
       "      <td>-0.527777</td>\n",
       "      <td>0.270748</td>\n",
       "      <td>-0.027991</td>\n",
       "    </tr>\n",
       "    <tr>\n",
       "      <th>369</th>\n",
       "      <td>0.421056</td>\n",
       "      <td>-0.781050</td>\n",
       "      <td>-0.450814</td>\n",
       "      <td>-1.004824</td>\n",
       "      <td>-0.917053</td>\n",
       "    </tr>\n",
       "  </tbody>\n",
       "</table>\n",
       "<p>370 rows × 5 columns</p>\n",
       "</div>"
      ],
      "text/plain": [
       "            0         1         2         3         4\n",
       "0   -1.456428 -0.700610 -1.109806 -1.187049 -1.094865\n",
       "1   -0.032130  0.049880  0.030202 -0.777043 -0.502157\n",
       "2    0.615279  0.108071  0.506408 -1.323717 -1.035594\n",
       "3   -0.792834  1.071642  0.049442 -0.367038 -0.265074\n",
       "4   -0.695723 -0.994987 -0.970312 -0.002589 -0.442886\n",
       "..        ...       ...       ...       ...       ...\n",
       "365  2.136689 -0.306967  0.896031  0.999646  0.386904\n",
       "366  1.084650 -0.492664  0.126405 -1.141492 -0.798511\n",
       "367  0.048797  0.573597  0.501598  0.179635  0.209092\n",
       "368  0.793316 -0.984718 -0.527777  0.270748 -0.027991\n",
       "369  0.421056 -0.781050 -0.450814 -1.004824 -0.917053\n",
       "\n",
       "[370 rows x 5 columns]"
      ]
     },
     "execution_count": 133,
     "metadata": {},
     "output_type": "execute_result"
    }
   ],
   "source": [
    "data = pd.DataFrame(X_test)\n",
    "data = data.reset_index()\n",
    "data = data.drop(\"index\", axis=1)\n",
    "data"
   ]
  },
  {
   "cell_type": "code",
   "execution_count": 137,
   "id": "bbaab668",
   "metadata": {},
   "outputs": [
    {
     "data": {
      "text/html": [
       "<div>\n",
       "<style scoped>\n",
       "    .dataframe tbody tr th:only-of-type {\n",
       "        vertical-align: middle;\n",
       "    }\n",
       "\n",
       "    .dataframe tbody tr th {\n",
       "        vertical-align: top;\n",
       "    }\n",
       "\n",
       "    .dataframe thead th {\n",
       "        text-align: right;\n",
       "    }\n",
       "</style>\n",
       "<table border=\"1\" class=\"dataframe\">\n",
       "  <thead>\n",
       "    <tr style=\"text-align: right;\">\n",
       "      <th></th>\n",
       "      <th>Rating</th>\n",
       "      <th>Predictions</th>\n",
       "    </tr>\n",
       "  </thead>\n",
       "  <tbody>\n",
       "    <tr>\n",
       "      <th>0</th>\n",
       "      <td>16.3</td>\n",
       "      <td>16.852171</td>\n",
       "    </tr>\n",
       "    <tr>\n",
       "      <th>1</th>\n",
       "      <td>53.0</td>\n",
       "      <td>51.530102</td>\n",
       "    </tr>\n",
       "    <tr>\n",
       "      <th>2</th>\n",
       "      <td>118.3</td>\n",
       "      <td>114.583740</td>\n",
       "    </tr>\n",
       "    <tr>\n",
       "      <th>3</th>\n",
       "      <td>41.9</td>\n",
       "      <td>41.847706</td>\n",
       "    </tr>\n",
       "    <tr>\n",
       "      <th>4</th>\n",
       "      <td>19.0</td>\n",
       "      <td>18.396633</td>\n",
       "    </tr>\n",
       "    <tr>\n",
       "      <th>...</th>\n",
       "      <td>...</td>\n",
       "      <td>...</td>\n",
       "    </tr>\n",
       "    <tr>\n",
       "      <th>365</th>\n",
       "      <td>116.3</td>\n",
       "      <td>85.682922</td>\n",
       "    </tr>\n",
       "    <tr>\n",
       "      <th>366</th>\n",
       "      <td>79.3</td>\n",
       "      <td>76.678047</td>\n",
       "    </tr>\n",
       "    <tr>\n",
       "      <th>367</th>\n",
       "      <td>62.0</td>\n",
       "      <td>46.507378</td>\n",
       "    </tr>\n",
       "    <tr>\n",
       "      <th>368</th>\n",
       "      <td>26.4</td>\n",
       "      <td>31.642897</td>\n",
       "    </tr>\n",
       "    <tr>\n",
       "      <th>369</th>\n",
       "      <td>52.1</td>\n",
       "      <td>51.228325</td>\n",
       "    </tr>\n",
       "  </tbody>\n",
       "</table>\n",
       "<p>370 rows × 2 columns</p>\n",
       "</div>"
      ],
      "text/plain": [
       "     Rating  Predictions\n",
       "0      16.3    16.852171\n",
       "1      53.0    51.530102\n",
       "2     118.3   114.583740\n",
       "3      41.9    41.847706\n",
       "4      19.0    18.396633\n",
       "..      ...          ...\n",
       "365   116.3    85.682922\n",
       "366    79.3    76.678047\n",
       "367    62.0    46.507378\n",
       "368    26.4    31.642897\n",
       "369    52.1    51.228325\n",
       "\n",
       "[370 rows x 2 columns]"
      ]
     },
     "execution_count": 137,
     "metadata": {},
     "output_type": "execute_result"
    },
    {
     "name": "stderr",
     "output_type": "stream",
     "text": [
      "2:80: E501 line too long (96 > 79 characters)\n",
      "3:80: E501 line too long (89 > 79 characters)\n"
     ]
    }
   ],
   "source": [
    "final = pd.concat([data, df12], axis=1)\n",
    "final.columns = ['Accuracy', 'Shot fired', 'Hits', 'Deaths', \"DMG_Get\", 'Rating', \"Predictions\"]\n",
    "final.drop(['Accuracy', 'Shot fired', 'Hits', 'Deaths', \"DMG_Get\"], axis=1, inplace=True)\n",
    "final"
   ]
  },
  {
   "cell_type": "code",
   "execution_count": 138,
   "id": "9601d0c0",
   "metadata": {},
   "outputs": [],
   "source": [
    "final[\"Diff\"] = final[\"Rating\"] - final[\"Predictions\"]"
   ]
  },
  {
   "cell_type": "code",
   "execution_count": 139,
   "id": "4e91ee69",
   "metadata": {
    "scrolled": true
   },
   "outputs": [
    {
     "data": {
      "text/html": [
       "<div>\n",
       "<style scoped>\n",
       "    .dataframe tbody tr th:only-of-type {\n",
       "        vertical-align: middle;\n",
       "    }\n",
       "\n",
       "    .dataframe tbody tr th {\n",
       "        vertical-align: top;\n",
       "    }\n",
       "\n",
       "    .dataframe thead th {\n",
       "        text-align: right;\n",
       "    }\n",
       "</style>\n",
       "<table border=\"1\" class=\"dataframe\">\n",
       "  <thead>\n",
       "    <tr style=\"text-align: right;\">\n",
       "      <th></th>\n",
       "      <th>Rating</th>\n",
       "      <th>Predictions</th>\n",
       "      <th>Diff</th>\n",
       "    </tr>\n",
       "  </thead>\n",
       "  <tbody>\n",
       "    <tr>\n",
       "      <th>0</th>\n",
       "      <td>16.3</td>\n",
       "      <td>16.852171</td>\n",
       "      <td>-0.552171</td>\n",
       "    </tr>\n",
       "    <tr>\n",
       "      <th>1</th>\n",
       "      <td>53.0</td>\n",
       "      <td>51.530102</td>\n",
       "      <td>1.469898</td>\n",
       "    </tr>\n",
       "    <tr>\n",
       "      <th>2</th>\n",
       "      <td>118.3</td>\n",
       "      <td>114.583740</td>\n",
       "      <td>3.716260</td>\n",
       "    </tr>\n",
       "    <tr>\n",
       "      <th>3</th>\n",
       "      <td>41.9</td>\n",
       "      <td>41.847706</td>\n",
       "      <td>0.052294</td>\n",
       "    </tr>\n",
       "    <tr>\n",
       "      <th>4</th>\n",
       "      <td>19.0</td>\n",
       "      <td>18.396633</td>\n",
       "      <td>0.603367</td>\n",
       "    </tr>\n",
       "    <tr>\n",
       "      <th>...</th>\n",
       "      <td>...</td>\n",
       "      <td>...</td>\n",
       "      <td>...</td>\n",
       "    </tr>\n",
       "    <tr>\n",
       "      <th>365</th>\n",
       "      <td>116.3</td>\n",
       "      <td>85.682922</td>\n",
       "      <td>30.617078</td>\n",
       "    </tr>\n",
       "    <tr>\n",
       "      <th>366</th>\n",
       "      <td>79.3</td>\n",
       "      <td>76.678047</td>\n",
       "      <td>2.621953</td>\n",
       "    </tr>\n",
       "    <tr>\n",
       "      <th>367</th>\n",
       "      <td>62.0</td>\n",
       "      <td>46.507378</td>\n",
       "      <td>15.492622</td>\n",
       "    </tr>\n",
       "    <tr>\n",
       "      <th>368</th>\n",
       "      <td>26.4</td>\n",
       "      <td>31.642897</td>\n",
       "      <td>-5.242897</td>\n",
       "    </tr>\n",
       "    <tr>\n",
       "      <th>369</th>\n",
       "      <td>52.1</td>\n",
       "      <td>51.228325</td>\n",
       "      <td>0.871675</td>\n",
       "    </tr>\n",
       "  </tbody>\n",
       "</table>\n",
       "<p>370 rows × 3 columns</p>\n",
       "</div>"
      ],
      "text/plain": [
       "     Rating  Predictions       Diff\n",
       "0      16.3    16.852171  -0.552171\n",
       "1      53.0    51.530102   1.469898\n",
       "2     118.3   114.583740   3.716260\n",
       "3      41.9    41.847706   0.052294\n",
       "4      19.0    18.396633   0.603367\n",
       "..      ...          ...        ...\n",
       "365   116.3    85.682922  30.617078\n",
       "366    79.3    76.678047   2.621953\n",
       "367    62.0    46.507378  15.492622\n",
       "368    26.4    31.642897  -5.242897\n",
       "369    52.1    51.228325   0.871675\n",
       "\n",
       "[370 rows x 3 columns]"
      ]
     },
     "execution_count": 139,
     "metadata": {},
     "output_type": "execute_result"
    }
   ],
   "source": [
    "final"
   ]
  },
  {
   "cell_type": "code",
   "execution_count": 140,
   "id": "924ce6fa",
   "metadata": {},
   "outputs": [
    {
     "data": {
      "text/plain": [
       "74.05405405405405"
      ]
     },
     "execution_count": 140,
     "metadata": {},
     "output_type": "execute_result"
    }
   ],
   "source": [
    "len(final[abs(final[\"Diff\"]) < 5]) / len(final) * 100"
   ]
  },
  {
   "cell_type": "markdown",
   "id": "4dcd6922",
   "metadata": {},
   "source": [
    "# Without Outlaiers"
   ]
  },
  {
   "cell_type": "code",
   "execution_count": 141,
   "id": "44d21363",
   "metadata": {},
   "outputs": [],
   "source": [
    "df_100 = df[df[\"Rating\"] < 100]"
   ]
  },
  {
   "cell_type": "code",
   "execution_count": 142,
   "id": "36d86f0a",
   "metadata": {},
   "outputs": [
    {
     "data": {
      "text/html": [
       "<div>\n",
       "<style scoped>\n",
       "    .dataframe tbody tr th:only-of-type {\n",
       "        vertical-align: middle;\n",
       "    }\n",
       "\n",
       "    .dataframe tbody tr th {\n",
       "        vertical-align: top;\n",
       "    }\n",
       "\n",
       "    .dataframe thead th {\n",
       "        text-align: right;\n",
       "    }\n",
       "</style>\n",
       "<table border=\"1\" class=\"dataframe\">\n",
       "  <thead>\n",
       "    <tr style=\"text-align: right;\">\n",
       "      <th></th>\n",
       "      <th>Rating</th>\n",
       "      <th>Accuracy</th>\n",
       "      <th>Shot fired</th>\n",
       "      <th>Hits</th>\n",
       "      <th>Deaths</th>\n",
       "      <th>DMG_Get</th>\n",
       "    </tr>\n",
       "  </thead>\n",
       "  <tbody>\n",
       "    <tr>\n",
       "      <th>1</th>\n",
       "      <td>55.8</td>\n",
       "      <td>15.8</td>\n",
       "      <td>4771</td>\n",
       "      <td>753</td>\n",
       "      <td>54</td>\n",
       "      <td>59.0</td>\n",
       "    </tr>\n",
       "    <tr>\n",
       "      <th>2</th>\n",
       "      <td>47.6</td>\n",
       "      <td>16.7</td>\n",
       "      <td>3526</td>\n",
       "      <td>589</td>\n",
       "      <td>59</td>\n",
       "      <td>54.0</td>\n",
       "    </tr>\n",
       "    <tr>\n",
       "      <th>3</th>\n",
       "      <td>47.5</td>\n",
       "      <td>15.2</td>\n",
       "      <td>3184</td>\n",
       "      <td>484</td>\n",
       "      <td>42</td>\n",
       "      <td>44.0</td>\n",
       "    </tr>\n",
       "    <tr>\n",
       "      <th>4</th>\n",
       "      <td>24.7</td>\n",
       "      <td>10.3</td>\n",
       "      <td>3481</td>\n",
       "      <td>359</td>\n",
       "      <td>66</td>\n",
       "      <td>58.0</td>\n",
       "    </tr>\n",
       "    <tr>\n",
       "      <th>5</th>\n",
       "      <td>24.4</td>\n",
       "      <td>14.5</td>\n",
       "      <td>2365</td>\n",
       "      <td>343</td>\n",
       "      <td>68</td>\n",
       "      <td>60.0</td>\n",
       "    </tr>\n",
       "    <tr>\n",
       "      <th>...</th>\n",
       "      <td>...</td>\n",
       "      <td>...</td>\n",
       "      <td>...</td>\n",
       "      <td>...</td>\n",
       "      <td>...</td>\n",
       "      <td>...</td>\n",
       "    </tr>\n",
       "    <tr>\n",
       "      <th>1845</th>\n",
       "      <td>26.4</td>\n",
       "      <td>3.2</td>\n",
       "      <td>1393</td>\n",
       "      <td>44</td>\n",
       "      <td>0</td>\n",
       "      <td>5.0</td>\n",
       "    </tr>\n",
       "    <tr>\n",
       "      <th>1846</th>\n",
       "      <td>21.1</td>\n",
       "      <td>6.4</td>\n",
       "      <td>1643</td>\n",
       "      <td>105</td>\n",
       "      <td>11</td>\n",
       "      <td>18.0</td>\n",
       "    </tr>\n",
       "    <tr>\n",
       "      <th>1847</th>\n",
       "      <td>20.9</td>\n",
       "      <td>3.6</td>\n",
       "      <td>2208</td>\n",
       "      <td>80</td>\n",
       "      <td>5</td>\n",
       "      <td>13.0</td>\n",
       "    </tr>\n",
       "    <tr>\n",
       "      <th>1848</th>\n",
       "      <td>19.9</td>\n",
       "      <td>1.9</td>\n",
       "      <td>1630</td>\n",
       "      <td>31</td>\n",
       "      <td>2</td>\n",
       "      <td>5.0</td>\n",
       "    </tr>\n",
       "    <tr>\n",
       "      <th>1849</th>\n",
       "      <td>11.5</td>\n",
       "      <td>1.8</td>\n",
       "      <td>3462</td>\n",
       "      <td>64</td>\n",
       "      <td>15</td>\n",
       "      <td>19.0</td>\n",
       "    </tr>\n",
       "  </tbody>\n",
       "</table>\n",
       "<p>1735 rows × 6 columns</p>\n",
       "</div>"
      ],
      "text/plain": [
       "      Rating  Accuracy  Shot fired  Hits  Deaths  DMG_Get\n",
       "1       55.8      15.8        4771   753      54     59.0\n",
       "2       47.6      16.7        3526   589      59     54.0\n",
       "3       47.5      15.2        3184   484      42     44.0\n",
       "4       24.7      10.3        3481   359      66     58.0\n",
       "5       24.4      14.5        2365   343      68     60.0\n",
       "...      ...       ...         ...   ...     ...      ...\n",
       "1845    26.4       3.2        1393    44       0      5.0\n",
       "1846    21.1       6.4        1643   105      11     18.0\n",
       "1847    20.9       3.6        2208    80       5     13.0\n",
       "1848    19.9       1.9        1630    31       2      5.0\n",
       "1849    11.5       1.8        3462    64      15     19.0\n",
       "\n",
       "[1735 rows x 6 columns]"
      ]
     },
     "execution_count": 142,
     "metadata": {},
     "output_type": "execute_result"
    }
   ],
   "source": [
    "df_100"
   ]
  },
  {
   "cell_type": "code",
   "execution_count": 146,
   "id": "8a4e632a",
   "metadata": {},
   "outputs": [],
   "source": [
    "X = df_100.drop(\"Rating\", axis=1)"
   ]
  },
  {
   "cell_type": "code",
   "execution_count": 147,
   "id": "2846de68",
   "metadata": {},
   "outputs": [
    {
     "data": {
      "text/html": [
       "<div>\n",
       "<style scoped>\n",
       "    .dataframe tbody tr th:only-of-type {\n",
       "        vertical-align: middle;\n",
       "    }\n",
       "\n",
       "    .dataframe tbody tr th {\n",
       "        vertical-align: top;\n",
       "    }\n",
       "\n",
       "    .dataframe thead th {\n",
       "        text-align: right;\n",
       "    }\n",
       "</style>\n",
       "<table border=\"1\" class=\"dataframe\">\n",
       "  <thead>\n",
       "    <tr style=\"text-align: right;\">\n",
       "      <th></th>\n",
       "      <th>Accuracy</th>\n",
       "      <th>Shot fired</th>\n",
       "      <th>Hits</th>\n",
       "      <th>Deaths</th>\n",
       "      <th>DMG_Get</th>\n",
       "    </tr>\n",
       "  </thead>\n",
       "  <tbody>\n",
       "    <tr>\n",
       "      <th>1</th>\n",
       "      <td>15.8</td>\n",
       "      <td>4771</td>\n",
       "      <td>753</td>\n",
       "      <td>54</td>\n",
       "      <td>59.0</td>\n",
       "    </tr>\n",
       "    <tr>\n",
       "      <th>2</th>\n",
       "      <td>16.7</td>\n",
       "      <td>3526</td>\n",
       "      <td>589</td>\n",
       "      <td>59</td>\n",
       "      <td>54.0</td>\n",
       "    </tr>\n",
       "    <tr>\n",
       "      <th>3</th>\n",
       "      <td>15.2</td>\n",
       "      <td>3184</td>\n",
       "      <td>484</td>\n",
       "      <td>42</td>\n",
       "      <td>44.0</td>\n",
       "    </tr>\n",
       "    <tr>\n",
       "      <th>4</th>\n",
       "      <td>10.3</td>\n",
       "      <td>3481</td>\n",
       "      <td>359</td>\n",
       "      <td>66</td>\n",
       "      <td>58.0</td>\n",
       "    </tr>\n",
       "    <tr>\n",
       "      <th>5</th>\n",
       "      <td>14.5</td>\n",
       "      <td>2365</td>\n",
       "      <td>343</td>\n",
       "      <td>68</td>\n",
       "      <td>60.0</td>\n",
       "    </tr>\n",
       "    <tr>\n",
       "      <th>...</th>\n",
       "      <td>...</td>\n",
       "      <td>...</td>\n",
       "      <td>...</td>\n",
       "      <td>...</td>\n",
       "      <td>...</td>\n",
       "    </tr>\n",
       "    <tr>\n",
       "      <th>1845</th>\n",
       "      <td>3.2</td>\n",
       "      <td>1393</td>\n",
       "      <td>44</td>\n",
       "      <td>0</td>\n",
       "      <td>5.0</td>\n",
       "    </tr>\n",
       "    <tr>\n",
       "      <th>1846</th>\n",
       "      <td>6.4</td>\n",
       "      <td>1643</td>\n",
       "      <td>105</td>\n",
       "      <td>11</td>\n",
       "      <td>18.0</td>\n",
       "    </tr>\n",
       "    <tr>\n",
       "      <th>1847</th>\n",
       "      <td>3.6</td>\n",
       "      <td>2208</td>\n",
       "      <td>80</td>\n",
       "      <td>5</td>\n",
       "      <td>13.0</td>\n",
       "    </tr>\n",
       "    <tr>\n",
       "      <th>1848</th>\n",
       "      <td>1.9</td>\n",
       "      <td>1630</td>\n",
       "      <td>31</td>\n",
       "      <td>2</td>\n",
       "      <td>5.0</td>\n",
       "    </tr>\n",
       "    <tr>\n",
       "      <th>1849</th>\n",
       "      <td>1.8</td>\n",
       "      <td>3462</td>\n",
       "      <td>64</td>\n",
       "      <td>15</td>\n",
       "      <td>19.0</td>\n",
       "    </tr>\n",
       "  </tbody>\n",
       "</table>\n",
       "<p>1735 rows × 5 columns</p>\n",
       "</div>"
      ],
      "text/plain": [
       "      Accuracy  Shot fired  Hits  Deaths  DMG_Get\n",
       "1         15.8        4771   753      54     59.0\n",
       "2         16.7        3526   589      59     54.0\n",
       "3         15.2        3184   484      42     44.0\n",
       "4         10.3        3481   359      66     58.0\n",
       "5         14.5        2365   343      68     60.0\n",
       "...        ...         ...   ...     ...      ...\n",
       "1845       3.2        1393    44       0      5.0\n",
       "1846       6.4        1643   105      11     18.0\n",
       "1847       3.6        2208    80       5     13.0\n",
       "1848       1.9        1630    31       2      5.0\n",
       "1849       1.8        3462    64      15     19.0\n",
       "\n",
       "[1735 rows x 5 columns]"
      ]
     },
     "execution_count": 147,
     "metadata": {},
     "output_type": "execute_result"
    }
   ],
   "source": [
    "X"
   ]
  },
  {
   "cell_type": "code",
   "execution_count": 148,
   "id": "5f19a8d6",
   "metadata": {},
   "outputs": [],
   "source": [
    "y = df_100[\"Rating\"]"
   ]
  },
  {
   "cell_type": "code",
   "execution_count": 149,
   "id": "1efffa5a",
   "metadata": {},
   "outputs": [
    {
     "name": "stderr",
     "output_type": "stream",
     "text": [
      "1:80: E501 line too long (90 > 79 characters)\n"
     ]
    }
   ],
   "source": [
    "X_train, X_test, y_train, y_test = train_test_split(X, y, test_size=0.2, random_state=110)"
   ]
  },
  {
   "cell_type": "code",
   "execution_count": 150,
   "id": "115dda52",
   "metadata": {},
   "outputs": [],
   "source": [
    "X_test.to_csv(\"data/X_test_ann.csv\", encoding=\"utf-8\")\n",
    "y_test.to_csv(\"data/y_test_ann.csv\", encoding=\"utf-8\")\n",
    "X_train.to_csv(\"data/X_train_ann.csv\", encoding=\"utf-8\")\n",
    "y_train.to_csv(\"data/y_train_ann.csv\", encoding=\"utf-8\")"
   ]
  },
  {
   "cell_type": "code",
   "execution_count": 151,
   "id": "160ee78c",
   "metadata": {},
   "outputs": [
    {
     "data": {
      "text/html": [
       "<div>\n",
       "<style scoped>\n",
       "    .dataframe tbody tr th:only-of-type {\n",
       "        vertical-align: middle;\n",
       "    }\n",
       "\n",
       "    .dataframe tbody tr th {\n",
       "        vertical-align: top;\n",
       "    }\n",
       "\n",
       "    .dataframe thead th {\n",
       "        text-align: right;\n",
       "    }\n",
       "</style>\n",
       "<table border=\"1\" class=\"dataframe\">\n",
       "  <thead>\n",
       "    <tr style=\"text-align: right;\">\n",
       "      <th></th>\n",
       "      <th>Accuracy</th>\n",
       "      <th>Shot fired</th>\n",
       "      <th>Hits</th>\n",
       "      <th>Deaths</th>\n",
       "      <th>DMG_Get</th>\n",
       "    </tr>\n",
       "  </thead>\n",
       "  <tbody>\n",
       "    <tr>\n",
       "      <th>582</th>\n",
       "      <td>18.9</td>\n",
       "      <td>1169</td>\n",
       "      <td>221</td>\n",
       "      <td>53</td>\n",
       "      <td>44.0</td>\n",
       "    </tr>\n",
       "    <tr>\n",
       "      <th>1727</th>\n",
       "      <td>17.3</td>\n",
       "      <td>4283</td>\n",
       "      <td>740</td>\n",
       "      <td>30</td>\n",
       "      <td>33.0</td>\n",
       "    </tr>\n",
       "    <tr>\n",
       "      <th>213</th>\n",
       "      <td>16.1</td>\n",
       "      <td>1405</td>\n",
       "      <td>226</td>\n",
       "      <td>30</td>\n",
       "      <td>27.0</td>\n",
       "    </tr>\n",
       "    <tr>\n",
       "      <th>268</th>\n",
       "      <td>15.5</td>\n",
       "      <td>930</td>\n",
       "      <td>144</td>\n",
       "      <td>25</td>\n",
       "      <td>22.0</td>\n",
       "    </tr>\n",
       "    <tr>\n",
       "      <th>69</th>\n",
       "      <td>16.7</td>\n",
       "      <td>2140</td>\n",
       "      <td>357</td>\n",
       "      <td>35</td>\n",
       "      <td>33.0</td>\n",
       "    </tr>\n",
       "    <tr>\n",
       "      <th>...</th>\n",
       "      <td>...</td>\n",
       "      <td>...</td>\n",
       "      <td>...</td>\n",
       "      <td>...</td>\n",
       "      <td>...</td>\n",
       "    </tr>\n",
       "    <tr>\n",
       "      <th>463</th>\n",
       "      <td>10.0</td>\n",
       "      <td>667</td>\n",
       "      <td>67</td>\n",
       "      <td>27</td>\n",
       "      <td>17.0</td>\n",
       "    </tr>\n",
       "    <tr>\n",
       "      <th>410</th>\n",
       "      <td>15.2</td>\n",
       "      <td>1587</td>\n",
       "      <td>242</td>\n",
       "      <td>53</td>\n",
       "      <td>37.0</td>\n",
       "    </tr>\n",
       "    <tr>\n",
       "      <th>1385</th>\n",
       "      <td>14.5</td>\n",
       "      <td>3658</td>\n",
       "      <td>531</td>\n",
       "      <td>39</td>\n",
       "      <td>45.0</td>\n",
       "    </tr>\n",
       "    <tr>\n",
       "      <th>65</th>\n",
       "      <td>15.8</td>\n",
       "      <td>3220</td>\n",
       "      <td>509</td>\n",
       "      <td>36</td>\n",
       "      <td>38.0</td>\n",
       "    </tr>\n",
       "    <tr>\n",
       "      <th>138</th>\n",
       "      <td>8.0</td>\n",
       "      <td>1282</td>\n",
       "      <td>103</td>\n",
       "      <td>5</td>\n",
       "      <td>9.0</td>\n",
       "    </tr>\n",
       "  </tbody>\n",
       "</table>\n",
       "<p>1388 rows × 5 columns</p>\n",
       "</div>"
      ],
      "text/plain": [
       "      Accuracy  Shot fired  Hits  Deaths  DMG_Get\n",
       "582       18.9        1169   221      53     44.0\n",
       "1727      17.3        4283   740      30     33.0\n",
       "213       16.1        1405   226      30     27.0\n",
       "268       15.5         930   144      25     22.0\n",
       "69        16.7        2140   357      35     33.0\n",
       "...        ...         ...   ...     ...      ...\n",
       "463       10.0         667    67      27     17.0\n",
       "410       15.2        1587   242      53     37.0\n",
       "1385      14.5        3658   531      39     45.0\n",
       "65        15.8        3220   509      36     38.0\n",
       "138        8.0        1282   103       5      9.0\n",
       "\n",
       "[1388 rows x 5 columns]"
      ]
     },
     "execution_count": 151,
     "metadata": {},
     "output_type": "execute_result"
    }
   ],
   "source": [
    "X_train"
   ]
  },
  {
   "cell_type": "code",
   "execution_count": 152,
   "id": "e09c10e9",
   "metadata": {},
   "outputs": [],
   "source": [
    "scaler = MinMaxScaler()"
   ]
  },
  {
   "cell_type": "code",
   "execution_count": 153,
   "id": "e78411f3",
   "metadata": {},
   "outputs": [],
   "source": [
    "X_train = scaler.fit_transform(X_train)"
   ]
  },
  {
   "cell_type": "code",
   "execution_count": 154,
   "id": "fe0143d4",
   "metadata": {},
   "outputs": [],
   "source": [
    "X_test = scaler.transform(X_test)"
   ]
  },
  {
   "cell_type": "code",
   "execution_count": 155,
   "id": "76b2e6b6",
   "metadata": {},
   "outputs": [],
   "source": [
    "X_test_df = pd.DataFrame(X_test)"
   ]
  },
  {
   "cell_type": "code",
   "execution_count": 156,
   "id": "2d4c9b39",
   "metadata": {},
   "outputs": [],
   "source": [
    "y_test_df = pd.DataFrame(y_test)"
   ]
  },
  {
   "cell_type": "code",
   "execution_count": 157,
   "id": "6563ca75",
   "metadata": {},
   "outputs": [],
   "source": [
    "X_test_df.columns = ['Accuracy', 'Shot fired', 'Hits', 'Deaths', 'DMG_Get']"
   ]
  },
  {
   "cell_type": "code",
   "execution_count": 158,
   "id": "18d06e58",
   "metadata": {},
   "outputs": [
    {
     "data": {
      "text/plain": [
       "Index(['Rating'], dtype='object')"
      ]
     },
     "execution_count": 158,
     "metadata": {},
     "output_type": "execute_result"
    }
   ],
   "source": [
    "y_test_df.columns"
   ]
  },
  {
   "cell_type": "code",
   "execution_count": 159,
   "id": "58792b03",
   "metadata": {
    "scrolled": true
   },
   "outputs": [
    {
     "data": {
      "text/plain": [
       "<keras.callbacks.History at 0x2da1c2374c0>"
      ]
     },
     "execution_count": 159,
     "metadata": {},
     "output_type": "execute_result"
    },
    {
     "name": "stderr",
     "output_type": "stream",
     "text": [
      "1:20: E231 missing whitespace after ','\n",
      "2:34: E231 missing whitespace after ','\n",
      "3:25: E231 missing whitespace after ','\n"
     ]
    }
   ],
   "source": [
    "model.fit(x=X_train, y=y_train.values,\n",
    "          validation_data=(X_test, y_test.values),\n",
    "          batch_size=128, epochs=400)"
   ]
  },
  {
   "cell_type": "code",
   "execution_count": 162,
   "id": "2ed1f646",
   "metadata": {},
   "outputs": [],
   "source": [
    "predictions = model.predict(X_test)"
   ]
  },
  {
   "cell_type": "code",
   "execution_count": 163,
   "id": "5cae4d3c",
   "metadata": {
    "scrolled": true
   },
   "outputs": [],
   "source": [
    "print('MAE:', metrics.mean_absolute_error(y_test, predictions))\n",
    "print('MSE:', metrics.mean_squared_error(y_test, predictions))\n",
    "print('RMSE:', np.sqrt(metrics.mean_squared_error(y_test, predictions)))"
   ]
  },
  {
   "cell_type": "code",
   "execution_count": 164,
   "id": "2ed0160b",
   "metadata": {},
   "outputs": [
    {
     "data": {
      "text/html": [
       "<div>\n",
       "<style scoped>\n",
       "    .dataframe tbody tr th:only-of-type {\n",
       "        vertical-align: middle;\n",
       "    }\n",
       "\n",
       "    .dataframe tbody tr th {\n",
       "        vertical-align: top;\n",
       "    }\n",
       "\n",
       "    .dataframe thead th {\n",
       "        text-align: right;\n",
       "    }\n",
       "</style>\n",
       "<table border=\"1\" class=\"dataframe\">\n",
       "  <thead>\n",
       "    <tr style=\"text-align: right;\">\n",
       "      <th></th>\n",
       "      <th>Rating</th>\n",
       "      <th>Accuracy</th>\n",
       "      <th>Shot fired</th>\n",
       "      <th>Hits</th>\n",
       "      <th>Deaths</th>\n",
       "      <th>DMG_Get</th>\n",
       "    </tr>\n",
       "  </thead>\n",
       "  <tbody>\n",
       "    <tr>\n",
       "      <th>1</th>\n",
       "      <td>55.8</td>\n",
       "      <td>15.8</td>\n",
       "      <td>4771</td>\n",
       "      <td>753</td>\n",
       "      <td>54</td>\n",
       "      <td>59.0</td>\n",
       "    </tr>\n",
       "  </tbody>\n",
       "</table>\n",
       "</div>"
      ],
      "text/plain": [
       "   Rating  Accuracy  Shot fired  Hits  Deaths  DMG_Get\n",
       "1    55.8      15.8        4771   753      54     59.0"
      ]
     },
     "execution_count": 164,
     "metadata": {},
     "output_type": "execute_result"
    }
   ],
   "source": [
    "df.head(1)"
   ]
  },
  {
   "cell_type": "code",
   "execution_count": 166,
   "id": "9b1db69b",
   "metadata": {},
   "outputs": [],
   "source": [
    "to_predict = [[15.8, 4771, 753, 54, 591]]"
   ]
  },
  {
   "cell_type": "code",
   "execution_count": 167,
   "id": "d2dec83f",
   "metadata": {},
   "outputs": [
    {
     "name": "stderr",
     "output_type": "stream",
     "text": [
      "c:\\users\\kacpe\\appdata\\local\\programs\\python\\python39\\lib\\site-packages\\sklearn\\base.py:450: UserWarning: X does not have valid feature names, but MinMaxScaler was fitted with feature names\n",
      "  warnings.warn(\n"
     ]
    }
   ],
   "source": [
    "to_predict_s = scaler.transform(to_predict)"
   ]
  },
  {
   "cell_type": "code",
   "execution_count": 168,
   "id": "ca5aa5a1",
   "metadata": {},
   "outputs": [
    {
     "data": {
      "text/plain": [
       "array([[0.34899329, 0.57465619, 0.50436535, 0.39705882, 5.7184466 ]])"
      ]
     },
     "execution_count": 168,
     "metadata": {},
     "output_type": "execute_result"
    }
   ],
   "source": [
    "to_predict_s"
   ]
  },
  {
   "cell_type": "code",
   "execution_count": 169,
   "id": "b0a548c3",
   "metadata": {},
   "outputs": [],
   "source": [
    "pred = model.predict(to_predict_s)"
   ]
  },
  {
   "cell_type": "code",
   "execution_count": 170,
   "id": "7d7e923b",
   "metadata": {},
   "outputs": [
    {
     "data": {
      "text/plain": [
       "array([[2.1469371]], dtype=float32)"
      ]
     },
     "execution_count": 170,
     "metadata": {},
     "output_type": "execute_result"
    }
   ],
   "source": [
    "pred"
   ]
  },
  {
   "cell_type": "code",
   "execution_count": 203,
   "id": "f90ef1fe",
   "metadata": {
    "scrolled": true
   },
   "outputs": [
    {
     "data": {
      "text/plain": [
       "[<matplotlib.lines.Line2D at 0x2da22316220>]"
      ]
     },
     "execution_count": 203,
     "metadata": {},
     "output_type": "execute_result"
    },
    {
     "data": {
      "image/png": "[encoded data removed]",
      "text/plain": [
       "<Figure size 432x288 with 1 Axes>"
      ]
     },
     "metadata": {
      "needs_background": "light"
     },
     "output_type": "display_data"
    }
   ],
   "source": [
    "plt.scatter(y_test, predictions)\n",
    "\n",
    "# Real Value\n",
    "plt.plot(y_test, y_test, 'r')"
   ]
  },
  {
   "cell_type": "code",
   "execution_count": 204,
   "id": "9f817140",
   "metadata": {},
   "outputs": [],
   "source": [
    "tf.keras.models.save_model(model, \"models/ann.hdf5\")"
   ]
  },
  {
   "cell_type": "code",
   "execution_count": 205,
   "id": "1722479b",
   "metadata": {},
   "outputs": [
    {
     "data": {
      "text/plain": [
       "347"
      ]
     },
     "execution_count": 205,
     "metadata": {},
     "output_type": "execute_result"
    }
   ],
   "source": [
    "len(X_test_df)"
   ]
  },
  {
   "cell_type": "code",
   "execution_count": 206,
   "id": "dca82485",
   "metadata": {},
   "outputs": [],
   "source": [
    "X_test_df.to_csv(\"data/X_test.csv\", encoding=\"utf-8\")\n",
    "y_test_df.to_csv(\"data/y_test.csv\", encoding=\"utf-8\")"
   ]
  },
  {
   "cell_type": "markdown",
   "id": "a16cf405",
   "metadata": {},
   "source": [
    "# Cheated ANN"
   ]
  },
  {
   "cell_type": "code",
   "execution_count": 207,
   "id": "4994a7cc",
   "metadata": {},
   "outputs": [],
   "source": [
    "X = df_100[[\"Accuracy\", \"Hits\", \"DMG_Get\"]]"
   ]
  },
  {
   "cell_type": "code",
   "execution_count": 208,
   "id": "0259abb7",
   "metadata": {},
   "outputs": [],
   "source": [
    "y = df_100[\"Rating\"]"
   ]
  },
  {
   "cell_type": "code",
   "execution_count": 209,
   "id": "f3263550",
   "metadata": {},
   "outputs": [
    {
     "name": "stderr",
     "output_type": "stream",
     "text": [
      "1:80: E501 line too long (90 > 79 characters)\n"
     ]
    }
   ],
   "source": [
    "X_train, X_test, y_train, y_test = train_test_split(X, y, test_size=0.2, random_state=110)"
   ]
  },
  {
   "cell_type": "code",
   "execution_count": 210,
   "id": "ca601a32",
   "metadata": {},
   "outputs": [],
   "source": [
    "X_test.to_csv(\"data/X_test_ann_3.csv\", encoding=\"utf-8\")\n",
    "y_test.to_csv(\"data/y_test_ann_3.csv\", encoding=\"utf-8\")\n",
    "X_train.to_csv(\"data/X_train_ann_3.csv\", encoding=\"utf-8\")\n",
    "y_train.to_csv(\"data/y_train_ann_3.csv\", encoding=\"utf-8\")"
   ]
  },
  {
   "cell_type": "code",
   "execution_count": 211,
   "id": "e90464bc",
   "metadata": {},
   "outputs": [],
   "source": [
    "X_train = scaler.fit_transform(X_train)"
   ]
  },
  {
   "cell_type": "code",
   "execution_count": 212,
   "id": "4a07d735",
   "metadata": {},
   "outputs": [],
   "source": [
    "X_test = scaler.transform(X_test)"
   ]
  },
  {
   "cell_type": "code",
   "execution_count": 213,
   "id": "c9c43f88",
   "metadata": {},
   "outputs": [],
   "source": [
    "X_test_df = pd.DataFrame(X_test)"
   ]
  },
  {
   "cell_type": "code",
   "execution_count": 214,
   "id": "812fa37f",
   "metadata": {},
   "outputs": [],
   "source": [
    "y_test_df = pd.DataFrame(y_test)"
   ]
  },
  {
   "cell_type": "code",
   "execution_count": 215,
   "id": "2b825911",
   "metadata": {},
   "outputs": [],
   "source": [
    "X_test_df.columns = ['Accuracy', 'Hits', 'DMG_Get']"
   ]
  },
  {
   "cell_type": "code",
   "execution_count": 216,
   "id": "d914c7ed",
   "metadata": {},
   "outputs": [],
   "source": [
    "model_3 = Sequential()\n",
    "\n",
    "model_3.add(Dense(19, activation='relu'))\n",
    "model_3.add(Dense(19, activation='relu'))\n",
    "model_3.add(Dense(19, activation='relu'))\n",
    "model_3.add(Dense(19, activation='relu'))\n",
    "model_3.add(Dense(19, activation='relu'))\n",
    "model_3.add(Dense(19, activation='relu'))\n",
    "model_3.add(Dense(19, activation='relu'))\n",
    "model_3.add(Dense(19, activation='relu'))\n",
    "model_3.add(Dense(19, activation='relu'))\n",
    "model_3.add(Dense(19, activation='relu'))\n",
    "model_3.add(Dense(19, activation='relu'))\n",
    "\n",
    "model_3.add(Dense(1))\n",
    "\n",
    "model_3.compile(optimizer='adam', loss='mae')"
   ]
  },
  {
   "cell_type": "code",
   "execution_count": 226,
   "id": "2d11a62a",
   "metadata": {},
   "outputs": [
    {
     "data": {
      "text/plain": [
       "<keras.callbacks.History at 0x2da249590a0>"
      ]
     },
     "execution_count": 226,
     "metadata": {},
     "output_type": "execute_result"
    }
   ],
   "source": [
    "model_3.fit(x=X_train, y=y_train.values,\n",
    "            validation_data=(X_test, y_test.values),\n",
    "            batch_size=128, epochs=400)"
   ]
  },
  {
   "cell_type": "code",
   "execution_count": 218,
   "id": "bcacd6f0",
   "metadata": {},
   "outputs": [],
   "source": [
    "predictions = model_3.predict(X_test)"
   ]
  },
  {
   "cell_type": "code",
   "execution_count": 219,
   "id": "350d8a1c",
   "metadata": {
    "scrolled": true
   },
   "outputs": [],
   "source": [
    "print('MAE:', mean_absolute_error(y_test, predictions))\n",
    "print('MSE:', mean_squared_error(y_test, predictions))\n",
    "print('RMSE:', np.sqrt(mean_squared_error(y_test, predictions)))"
   ]
  },
  {
   "cell_type": "code",
   "execution_count": 220,
   "id": "0f594bee",
   "metadata": {},
   "outputs": [],
   "source": [
    "tf.keras.models.save_model(model_3, \"models/ann_3.hdf5\")"
   ]
  },
  {
   "cell_type": "code",
   "execution_count": 221,
   "id": "df484762",
   "metadata": {},
   "outputs": [],
   "source": [
    "X_test_df.to_csv(\"data/X_test_3.csv\", encoding=\"utf-8\")\n",
    "y_test_df.to_csv(\"data/y_test_3.csv\", encoding=\"utf-8\")"
   ]
  },
  {
   "cell_type": "code",
   "execution_count": 222,
   "id": "e82c4621",
   "metadata": {},
   "outputs": [
    {
     "data": {
      "text/plain": [
       "[<matplotlib.lines.Line2D at 0x2da246e1970>]"
      ]
     },
     "execution_count": 222,
     "metadata": {},
     "output_type": "execute_result"
    },
    {
     "data": {
      "image/png": "[encoded data removed]",
      "text/plain": [
       "<Figure size 432x288 with 1 Axes>"
      ]
     },
     "metadata": {
      "needs_background": "light"
     },
     "output_type": "display_data"
    }
   ],
   "source": [
    "plt.scatter(y_test, predictions)\n",
    "\n",
    "# Real Value\n",
    "plt.plot(y_test, y_test, 'r')"
   ]
  },
  {
   "cell_type": "code",
   "execution_count": null,
   "id": "da94d961",
   "metadata": {},
   "outputs": [],
   "source": []
  },
  {
   "cell_type": "code",
   "execution_count": null,
   "id": "facfd587",
   "metadata": {},
   "outputs": [],
   "source": []
  }
 ],
 "metadata": {
  "kernelspec": {
   "display_name": "Python 3 (ipykernel)",
   "language": "python",
   "name": "python3"
  },
  "language_info": {
   "codemirror_mode": {
    "name": "ipython",
    "version": 3
   },
   "file_extension": ".py",
   "mimetype": "text/x-python",
   "name": "python",
   "nbconvert_exporter": "python",
   "pygments_lexer": "ipython3",
   "version": "3.9.5"
  }
 },
 "nbformat": 4,
 "nbformat_minor": 5
}
